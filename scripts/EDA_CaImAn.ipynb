{
 "cells": [
  {
   "cell_type": "code",
   "execution_count": 1,
   "id": "31e5bf86",
   "metadata": {},
   "outputs": [],
   "source": [
    "import caiman as cm\n",
    "from caiman.motion_correction import MotionCorrect\n",
    "from caiman.source_extraction.cnmf import cnmf as cnmf\n",
    "from caiman.source_extraction.cnmf import params as params\n",
    "from caiman.utils.visualization import plot_contours, nb_view_patches, nb_plot_contour\n",
    "\n",
    "import glob\n",
    "import numpy as np\n",
    "import os"
   ]
  },
  {
   "cell_type": "code",
   "execution_count": 2,
   "id": "e0d45e37",
   "metadata": {
    "scrolled": true
   },
   "outputs": [
    {
     "name": "stderr",
     "output_type": "stream",
     "text": [
      "<tifffile.TiffFile 'F147_20210526_fi…_9dpf_00001.tif'> asarray failed to reshape (41990, 320, 256) to (26000, 2, 320, 256)\n"
     ]
    },
    {
     "name": "stdout",
     "output_type": "stream",
     "text": [
      "(41990, 320, 256)\n"
     ]
    }
   ],
   "source": [
    "# Upload and play movie\n",
    "F147 = cm.load('C:/Users/pugavin/BCB-330-2023-05/data/2p_raw/F147/F147_20210526_fish4_blk1_LT_9dpf_00001.tif')\n",
    "print(F147.shape)\n",
    "F147.play()"
   ]
  },
  {
   "cell_type": "code",
   "execution_count": 3,
   "id": "3c1823c3",
   "metadata": {},
   "outputs": [],
   "source": [
    "# Save and reload movie \n",
    "# See GitHub Issue #377 - https://github.com/flatironinstitute/CaImAn/issues/377#issuecomment-426740429\n",
    "F147.save('F147.tif')\n",
    "F147 = cm.load('F147.tif')"
   ]
  },
  {
   "cell_type": "code",
   "execution_count": 4,
   "id": "935ddcd1",
   "metadata": {
    "scrolled": true
   },
   "outputs": [],
   "source": [
    "# Set parameters\n",
    "opts_params = {\n",
    "    'use_cuda': True # use GPU\n",
    "}\n",
    "opts = params.CNMFParams(params_dict=opts_params)"
   ]
  },
  {
   "cell_type": "code",
   "execution_count": 5,
   "id": "b6e2b4ed",
   "metadata": {},
   "outputs": [],
   "source": [
    "# Start cluster\n",
    "if 'dview' in locals():\n",
    "    cm.stop_server(dview=dview)\n",
    "c, dview, n_processes = cm.cluster.setup_cluster(\n",
    "    backend='local',\n",
    "    n_processes=None,\n",
    "    single_thread=False\n",
    ")"
   ]
  },
  {
   "cell_type": "code",
   "execution_count": 6,
   "id": "eb6c1317",
   "metadata": {},
   "outputs": [
    {
     "name": "stderr",
     "output_type": "stream",
     "text": [
      "WARNING:root:Movie average is negative. Removing 1st percentile.\n",
      "WARNING:root:Movie average is negative. Removing 1st percentile.\n",
      "WARNING:root:Movie average is negative. Removing 1st percentile.\n"
     ]
    },
    {
     "data": {
      "text/plain": [
       "<caiman.motion_correction.MotionCorrect at 0x26484c63b80>"
      ]
     },
     "execution_count": 6,
     "metadata": {},
     "output_type": "execute_result"
    }
   ],
   "source": [
    "# Motion correction\n",
    "mc = MotionCorrect(\n",
    "    ['F147.tif'],\n",
    "    dview=dview,\n",
    "    **opts.get_group('motion')\n",
    ")\n",
    "mc.motion_correct(save_movie=True)"
   ]
  },
  {
   "cell_type": "code",
   "execution_count": 7,
   "id": "a6ea8d16",
   "metadata": {},
   "outputs": [
    {
     "name": "stderr",
     "output_type": "stream",
     "text": [
      "100%|████████████████████████████████████████████████████████████████████████████████████| 1/1 [00:10<00:00, 10.72s/it]\n"
     ]
    }
   ],
   "source": [
    "# Compare the original and motion corrected movies\n",
    "F147_mc = cm.load(mc.mmap_file)\n",
    "border_to_0 = 0 if mc.border_nan == 'copy' else mc.border_to_0\n",
    "ds_ratio = 1\n",
    "cm.concatenate([F147.resize(1, 1, ds_ratio) - mc.min_mov * mc.nonneg_movie,\n",
    "                F147_mc.resize(1, 1, ds_ratio)], axis=2).play()"
   ]
  },
  {
   "cell_type": "code",
   "execution_count": 8,
   "id": "74235184",
   "metadata": {
    "scrolled": true
   },
   "outputs": [],
   "source": [
    "# Save and load memory mapping\n",
    "mmap = cm.save_memmap(mc.mmap_file, base_name='memmap_', order='C')\n",
    "Yr, dims, T = cm.load_memmap(mmap)\n",
    "images = np.reshape(Yr.T, [T] + list(dims), order='F')"
   ]
  },
  {
   "cell_type": "code",
   "execution_count": 9,
   "id": "ec8c0e0c",
   "metadata": {
    "scrolled": true
   },
   "outputs": [],
   "source": [
    "# Restart cluster\n",
    "cm.stop_server(dview=dview)\n",
    "c, dview, n_processes = cm.cluster.setup_cluster(\n",
    "    backend='local',\n",
    "    n_processes=None,\n",
    "    single_thread=False\n",
    ")"
   ]
  },
  {
   "cell_type": "code",
   "execution_count": 10,
   "id": "85077274",
   "metadata": {},
   "outputs": [
    {
     "data": {
      "text/plain": [
       "<caiman.source_extraction.cnmf.estimates.Estimates at 0x2648500e850>"
      ]
     },
     "execution_count": 10,
     "metadata": {},
     "output_type": "execute_result"
    }
   ],
   "source": [
    "# CNMF\n",
    "cnm = cnmf.CNMF(n_processes, params=opts, dview=dview)\n",
    "cnm = cnm.fit(images)\n",
    "Cn = cm.local_correlations(images.transpose(1, 2, 0))\n",
    "Cn[np.isnan(Cn)] = 0\n",
    "cnm.estimates.plot_contours_nb(img=Cn)"
   ]
  },
  {
   "cell_type": "code",
   "execution_count": 11,
   "id": "a0b353d1",
   "metadata": {},
   "outputs": [
    {
     "name": "stdout",
     "output_type": "stream",
     "text": [
      "GPU run not requested, disabling use of GPUs\n",
      "USING MODEL (keras API): C:\\Users\\pugavin\\caiman_data\\model\\cnn_model.json\n",
      "1/1 [==============================] - 0s 156ms/step\n"
     ]
    }
   ],
   "source": [
    "# Component evaluation\n",
    "cnm.estimates.evaluate_components(images, cnm.params, dview=dview)\n",
    "cnm.estimates.plot_contours_nb(img=Cn, idx=cnm.estimates.idx_components)\n",
    "cnm.estimates.nb_view_components(img=Cn, idx=cnm.estimates.idx_components)\n",
    "if len(cnm.estimates.idx_components_bad) > 0:\n",
    "    cnm.estimates.nb_view_components(img=Cn, idx=cnm.estimates.idx_components_bad)"
   ]
  },
  {
   "cell_type": "code",
   "execution_count": 12,
   "id": "d093f0f8",
   "metadata": {
    "scrolled": false
   },
   "outputs": [
    {
     "data": {
      "text/plain": [
       "movie([[[ 88.3392   ,  89.06931  ,  86.0717   , ...,   9.44072  ,\n",
       "           9.488541 ,   9.476692 ],\n",
       "        [ 84.29774  ,  83.80311  ,  86.584755 , ...,   6.2607117,\n",
       "           6.348877 ,   6.3632965],\n",
       "        [ 87.96576  ,  85.30035  ,  86.23332  , ...,   4.82193  ,\n",
       "           4.827194 ,   4.8008804],\n",
       "        ...,\n",
       "        [ 86.440796 ,  84.88653  ,  92.32727  , ...,   6.5406647,\n",
       "           6.5891266,   6.582199 ],\n",
       "        [ 88.71199  ,  82.79227  ,  87.32204  , ...,   8.150719 ,\n",
       "           8.127296 ,   8.090027 ],\n",
       "        [ 88.71199  ,  82.79227  ,  87.32204  , ...,   8.140747 ,\n",
       "           8.128571 ,   8.103081 ]],\n",
       "\n",
       "       [[ 72.70942  ,  70.170555 ,  71.560974 , ...,  -9.541008 ,\n",
       "          -9.493172 ,  -9.50502  ],\n",
       "        [ 72.70942  ,  70.170555 ,  71.560974 , ...,  -9.568314 ,\n",
       "          -9.480125 ,  -9.465698 ],\n",
       "        [ 72.73377  ,  71.3659   ,  70.62903  , ...,  -8.190102 ,\n",
       "          -8.184837 ,  -8.211159 ],\n",
       "        ...,\n",
       "        [ 71.0361   ,  70.585594 ,  70.91259  , ...,  -7.360832 ,\n",
       "          -7.312355 ,  -7.31929  ],\n",
       "        [ 72.19605  ,  69.13474  ,  71.89283  , ...,  -9.792122 ,\n",
       "          -9.815544 ,  -9.852829 ],\n",
       "        [ 71.32224  ,  70.3855   ,  70.761734 , ...,  -7.49675  ,\n",
       "          -7.5089264,  -7.5344315]],\n",
       "\n",
       "       [[ 89.06382  ,  88.89971  ,  88.26027  , ...,  13.023491 ,\n",
       "          13.071365 ,  13.059509 ],\n",
       "        [ 85.56964  ,  92.96317  , 146.13554  , ...,  -1.3589325,\n",
       "          -1.2706833,  -1.2562408],\n",
       "        [ 86.149445 ,  86.30607  ,  90.243034 , ...,   5.184494 ,\n",
       "           5.1897583,   5.1634216],\n",
       "        ...,\n",
       "        [ 92.5661   ,  94.5853   ,  86.16047  , ...,   7.9973526,\n",
       "           8.045868 ,   8.038933 ],\n",
       "        [ 95.03828  ,  92.61331  ,  90.3862   , ...,   3.7462997,\n",
       "           3.7228546,   3.6855392],\n",
       "        [ 85.70457  ,  84.753525 ,  83.30772  , ...,  11.125885 ,\n",
       "          11.113701 ,  11.088181 ]],\n",
       "\n",
       "       ...,\n",
       "\n",
       "       [[ 73.957695 ,  73.957695 ,  70.45653  , ...,  -7.1049194,\n",
       "          -5.8352356,  -9.644722 ],\n",
       "        [ 73.957695 ,  73.957695 ,  70.45653  , ...,  -7.1322403,\n",
       "          -5.8221817,  -9.60537  ],\n",
       "        [ 73.957695 ,  73.957695 ,  70.45653  , ...,  -7.0736313,\n",
       "          -5.8465576,  -9.670509 ],\n",
       "        ...,\n",
       "        [ 71.42387  ,  71.42387  ,  71.360664 , ...,  -8.3402405,\n",
       "          -5.177292 ,   0.6107254],\n",
       "        [ 72.79583  ,  72.79583  ,  70.89332  , ...,  -9.113892 ,\n",
       "          -9.891472 ,  -7.088333 ],\n",
       "        [ 70.36269  ,  70.36269  ,  71.79291  , ..., -10.239487 ,\n",
       "         -13.001389 ,  -8.647194 ]],\n",
       "\n",
       "       [[ 89.84074  ,  89.84074  ,  82.60825  , ...,  12.316307 ,\n",
       "           3.4575653,  11.000755 ],\n",
       "        [ 89.84074  ,  89.84074  ,  82.60825  , ...,  12.288986 ,\n",
       "           3.4706192,  11.040108 ],\n",
       "        [ 87.35111  ,  87.35111  ,  86.34519  , ...,  15.860352 ,\n",
       "           7.7368317,  15.283012 ],\n",
       "        ...,\n",
       "        [ 87.66776  ,  87.66776  ,  90.7877   , ...,   9.89267  ,\n",
       "           9.449478 ,  12.391586 ],\n",
       "        [ 88.0001   ,  88.0001   ,  88.0001   , ...,   9.516426 ,\n",
       "           4.0510864,   6.4426727],\n",
       "        [ 87.53269  ,  87.53269  ,  87.22404  , ...,   6.4490128,\n",
       "           5.4797897,  10.415146 ]],\n",
       "\n",
       "       [[ 70.88018  ,  70.88018  ,  71.44517  , ...,  -8.625908 ,\n",
       "          -9.309822 ,  -9.195473 ],\n",
       "        [ 70.88018  ,  70.88018  ,  71.44517  , ...,  -8.653229 ,\n",
       "          -9.296768 ,  -9.15612  ],\n",
       "        [ 70.15404  ,  70.15404  ,  70.75005  , ...,  -5.0700912,\n",
       "          -6.9835815,  -8.267006 ],\n",
       "        ...,\n",
       "        [ 69.19002  ,  69.19002  ,  71.0769   , ...,  -6.5101624,\n",
       "          -7.8963013,  -7.9929733],\n",
       "        [ 72.140144 ,  72.140144 ,  71.55781  , ...,  -9.448761 ,\n",
       "          -7.7746353,  -7.604164 ],\n",
       "        [ 70.97257  ,  70.97257  ,  71.46405  , ...,  -9.434448 ,\n",
       "          -7.611229 ,  -7.6002197]]], dtype=float32)"
      ]
     },
     "execution_count": 12,
     "metadata": {},
     "output_type": "execute_result"
    }
   ],
   "source": [
    "# Prepare and view final results\n",
    "cnm.estimates.detrend_df_f()\n",
    "cnm.estimates.select_components(use_object=True)\n",
    "cnm.estimates.nb_view_components(img=Cn, denoised_color='red')\n",
    "cnm.estimates.play_movie(images)"
   ]
  },
  {
   "cell_type": "code",
   "execution_count": 13,
   "id": "4db38d93",
   "metadata": {},
   "outputs": [],
   "source": [
    "# Save hdf5 file\n",
    "cnm.save('F147_results.hdf5')"
   ]
  },
  {
   "cell_type": "code",
   "execution_count": 14,
   "id": "e7fa290b",
   "metadata": {},
   "outputs": [],
   "source": [
    "# Stop cluster and clean up logs\n",
    "cm.stop_server(dview=dview)\n",
    "log_files = glob.glob('*_LOG_*')\n",
    "for log_file in log_files:\n",
    "    os.remove(log_file)"
   ]
  }
 ],
 "metadata": {
  "kernelspec": {
   "display_name": "Python 3 (ipykernel)",
   "language": "python",
   "name": "python3"
  },
  "language_info": {
   "codemirror_mode": {
    "name": "ipython",
    "version": 3
   },
   "file_extension": ".py",
   "mimetype": "text/x-python",
   "name": "python",
   "nbconvert_exporter": "python",
   "pygments_lexer": "ipython3",
   "version": "3.9.16"
  }
 },
 "nbformat": 4,
 "nbformat_minor": 5
}
