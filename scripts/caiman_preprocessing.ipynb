{
 "cells": [
  {
   "cell_type": "code",
   "execution_count": null,
   "id": "44686b6a",
   "metadata": {},
   "outputs": [],
   "source": [
    "import caiman as cm\n",
    "from caiman.motion_correction import MotionCorrect\n",
    "from caiman.source_extraction.cnmf import cnmf, params\n",
    "\n",
    "import matplotlib.pyplot as plt\n",
    "import numpy as np\n",
    "\n",
    "import os\n",
    "\n",
    "from src.caiman_preprocessing import copy_data, find_local_max, replace_rows\n",
    "from src.hyperparams import Hyperparams"
   ]
  },
  {
   "cell_type": "markdown",
   "id": "f5c2d01d",
   "metadata": {},
   "source": [
    "## Hyperparameter Setup"
   ]
  },
  {
   "cell_type": "code",
   "execution_count": null,
   "id": "e20a8798",
   "metadata": {},
   "outputs": [],
   "source": [
    "# Hyperparameters for F147\n",
    "F147 = Hyperparams(name='F147')\n",
    "F147.set_paths(\n",
    "    path_orig='data/2p_raw/F147/F147_20210526_fish4_blk1_LT_9dpf_00001.tif',\n",
    "    path_src='results/F147.tif'\n",
    ")\n",
    "F147.set_params_dict(tau=3)\n",
    "F147.set_lr_params(local_max_thr=20, local_max_rad=50,\n",
    "                   channel_thr=0, correction_thr=25, correction_rad=50)\n",
    "F147.set_lr_proxy_params(proxy_slices=[(slice(247, 311), slice(39, 152))])\n",
    "F147.set_piecewise_processing(proc_slices=[\n",
    "    (slice(0, 247), slice(0, 256)),\n",
    "    (slice(247, 320), slice(0, 256))\n",
    "])"
   ]
  },
  {
   "cell_type": "code",
   "execution_count": null,
   "id": "0978df1f",
   "metadata": {},
   "outputs": [],
   "source": [
    "# Hyperparameters for F201\n",
    "F201 = Hyperparams(name='F201')\n",
    "F201.set_paths(\n",
    "    path_orig='data/2p_raw/F201/F201_20210812_fish2_blk1_RT_9dpf_00001.tif',\n",
    "    path_src='results/F201.tif'\n",
    ")\n",
    "F201.set_params_dict(tau=8)\n",
    "F201.set_lr_params(local_max_thr=50, local_max_rad=50,\n",
    "                   channel_thr=0, correction_thr=55, correction_rad=50)"
   ]
  },
  {
   "cell_type": "code",
   "execution_count": null,
   "id": "813556d9",
   "metadata": {},
   "outputs": [],
   "source": [
    "# Currently selected hyperparameters\n",
    "hyp = F147\n",
    "\n",
    "# Select the piece to run CNMF on (only for piecewise processing)\n",
    "if hyp.piecewise_proc:\n",
    "    hyp.proc_index = 0"
   ]
  },
  {
   "cell_type": "markdown",
   "id": "db61fd40",
   "metadata": {},
   "source": [
    "## File Setup"
   ]
  },
  {
   "cell_type": "code",
   "execution_count": null,
   "id": "e90d0496",
   "metadata": {},
   "outputs": [],
   "source": [
    "# Move from the scripts directory to the main project directory\n",
    "os.chdir('../')\n",
    "\n",
    "# Set the path to the main results folder\n",
    "results_path = 'results/'"
   ]
  },
  {
   "cell_type": "code",
   "execution_count": null,
   "id": "3fd3ea97",
   "metadata": {},
   "outputs": [],
   "source": [
    "# Uncomment the last line to load and resave the data\n",
    "# See GitHub Issue #377 - https://github.com/flatironinstitute/CaImAn/issues/377#issuecomment-426740429\n",
    "# copy_data(hyp.path_orig, hyp.path_src)"
   ]
  },
  {
   "cell_type": "markdown",
   "id": "66cfe64e",
   "metadata": {},
   "source": [
    "## CaImAn Parameter Setup"
   ]
  },
  {
   "cell_type": "code",
   "execution_count": null,
   "id": "63d2c231",
   "metadata": {},
   "outputs": [],
   "source": [
    "# Save the CaImAn parameter dictionary\n",
    "hyp.set_fname(hyp.path_src)\n",
    "opts = params.CNMFParams(params_dict=hyp.params_dict)"
   ]
  },
  {
   "cell_type": "markdown",
   "id": "12996907",
   "metadata": {},
   "source": [
    "## Movie"
   ]
  },
  {
   "cell_type": "code",
   "execution_count": null,
   "id": "2b7a359d",
   "metadata": {},
   "outputs": [],
   "source": [
    "# Play the movie of the original data\n",
    "movie_orig = cm.load(hyp.path_src)\n",
    "movie_orig.play()"
   ]
  },
  {
   "cell_type": "markdown",
   "id": "ff189631",
   "metadata": {},
   "source": [
    "## Fluorescence Diagnostics"
   ]
  },
  {
   "cell_type": "code",
   "execution_count": null,
   "id": "59cbcc62",
   "metadata": {
    "scrolled": false
   },
   "outputs": [],
   "source": [
    "# Create an array used for diagonistics and line removal\n",
    "movie_dgn = np.copy(movie_orig)\n",
    "\n",
    "# Remove all rectangular slices if line removal by proxy is used\n",
    "if hyp.lr_proxy:\n",
    "    for rectangle in hyp.proxy_slices:\n",
    "        movie_dgn[:, rectangle[0], rectangle[1]] = np.full_like(movie_dgn[:, rectangle[0], rectangle[1]], np.nan)"
   ]
  },
  {
   "cell_type": "code",
   "execution_count": null,
   "id": "d012b606",
   "metadata": {},
   "outputs": [],
   "source": [
    "# Find the mean flourescence of each frame\n",
    "movie_dgn_means = np.nanmean(movie_dgn, axis=(1, 2))"
   ]
  },
  {
   "cell_type": "code",
   "execution_count": null,
   "id": "608fa9a2",
   "metadata": {
    "scrolled": false
   },
   "outputs": [],
   "source": [
    "# Create a diagonstic plot of the mean fluorescences\n",
    "plt.plot(movie_dgn_means, '.')\n",
    "local_max_threshold = plt.axhline(hyp.local_max_thr, c='y')\n",
    "plt.title(\"Mean Fluorescences of All Frames\")\n",
    "plt.xlabel(\"Frame\")\n",
    "plt.ylabel(\"Mean Fluorescence\")\n",
    "plt.legend([local_max_threshold], [\"Local Maximum\\nThreshold\"], loc=1)\n",
    "plt.show()"
   ]
  },
  {
   "cell_type": "code",
   "execution_count": null,
   "id": "6d02ca8d",
   "metadata": {},
   "outputs": [],
   "source": [
    "# Find all local maxima of the mean flourescences\n",
    "local_max = find_local_max(movie_dgn_means, hyp.local_max_thr, hyp.local_max_rad)\n",
    "print(local_max)"
   ]
  },
  {
   "cell_type": "code",
   "execution_count": null,
   "id": "0b0131f8",
   "metadata": {
    "scrolled": true
   },
   "outputs": [],
   "source": [
    "# Create diagonstic plots of mean fluorescences around each local maximum\n",
    "for point in local_max:\n",
    "    lb, ub = point - hyp.correction_rad, point + hyp.correction_rad + 1\n",
    "    plt.plot(range(lb, ub), movie_dgn_means[lb:ub], '.')\n",
    "    channel_threshold = plt.axhline(hyp.channel_thr, c='g')\n",
    "    plt.title(\"Mean Fluorescences of Frames Near \" + str(point))\n",
    "    plt.xlabel(\"Frame\")\n",
    "    plt.ylabel(\"Mean Fluorescence\")\n",
    "    plt.legend([channel_threshold], [\"Channel\\nThreshold\"], loc=1)\n",
    "    plt.show()"
   ]
  },
  {
   "cell_type": "code",
   "execution_count": null,
   "id": "6d23439e",
   "metadata": {
    "scrolled": true
   },
   "outputs": [],
   "source": [
    "# Create diagonstic plots of mean row fluorescences for each image requiring correction\n",
    "for point in local_max:\n",
    "    lb, ub = point - hyp.correction_rad, point + hyp.correction_rad + 1\n",
    "    for i in range(lb, ub):\n",
    "        if not movie_dgn_means[i] > hyp.channel_thr:\n",
    "            continue\n",
    "        frame_row_means = np.nanmean(movie_dgn[i], axis=1)\n",
    "        for j in range(frame_row_means.size):\n",
    "            if frame_row_means[j] > hyp.correction_thr:\n",
    "                plt.plot(frame_row_means, '.')\n",
    "                correction_threshold = plt.axhline(hyp.correction_thr, c='r')\n",
    "                plt.title(\"Mean Row Fluorescences of Frame \" + str(i))\n",
    "                plt.xlabel(\"Row Index\")\n",
    "                plt.ylabel(\"Mean Fluorescence\")\n",
    "                plt.legend([correction_threshold], [\"Correction\\nThreshold\"], loc=1)\n",
    "                plt.show()\n",
    "                break"
   ]
  },
  {
   "cell_type": "markdown",
   "id": "418356de",
   "metadata": {},
   "source": [
    "## Line Removal"
   ]
  },
  {
   "cell_type": "code",
   "execution_count": null,
   "id": "3e6e9dd0",
   "metadata": {},
   "outputs": [],
   "source": [
    "# Reload the movie and remove lines\n",
    "movie_lr = cm.load(hyp.path_src)\n",
    "for point in local_max:\n",
    "    replace_rows(movie_lr, movie_dgn, point, hyp.channel_thr,\n",
    "                 hyp.correction_thr, hyp.correction_rad)"
   ]
  },
  {
   "cell_type": "code",
   "execution_count": null,
   "id": "0e9a6c49",
   "metadata": {
    "scrolled": false
   },
   "outputs": [],
   "source": [
    "# Create a diagonstic plot of the corrected mean fluorescences\n",
    "plt.plot(np.mean(movie_lr, axis=(1, 2)), '.')\n",
    "plt.title(\"Corrected Mean Fluorescences of All Frames\")\n",
    "plt.xlabel(\"Frame\")\n",
    "plt.ylabel(\"Mean Fluorescence\")\n",
    "plt.show()"
   ]
  },
  {
   "cell_type": "code",
   "execution_count": null,
   "id": "f77c8d32",
   "metadata": {},
   "outputs": [],
   "source": [
    "# Save the corrected movie\n",
    "path_lr = results_path + hyp.name + '_lr.tif'\n",
    "movie_lr.save(path_lr)"
   ]
  },
  {
   "cell_type": "markdown",
   "id": "45d8b05c",
   "metadata": {},
   "source": [
    "## Motion Correction"
   ]
  },
  {
   "cell_type": "code",
   "execution_count": null,
   "id": "27aa7f0e",
   "metadata": {},
   "outputs": [],
   "source": [
    "# Start or restart the cluster\n",
    "if 'dview' in locals():\n",
    "    cm.stop_server(dview=dview)\n",
    "dview, n_processes = cm.cluster.setup_cluster()[1:3]"
   ]
  },
  {
   "cell_type": "code",
   "execution_count": null,
   "id": "2002346c",
   "metadata": {},
   "outputs": [],
   "source": [
    "# Perform rigid motion correction\n",
    "mc = MotionCorrect(path_lr, dview=dview, **opts.get_group('motion'))\n",
    "mc.motion_correct(save_movie=True)"
   ]
  },
  {
   "cell_type": "code",
   "execution_count": null,
   "id": "46ae48e7",
   "metadata": {},
   "outputs": [],
   "source": [
    "# Compare the motion-corrected data with the line-removed data\n",
    "movie_mc = cm.load(mc.mmap_file)\n",
    "cm.concatenate([movie_lr - mc.min_mov * mc.nonneg_movie, movie_mc], axis=2).play()"
   ]
  },
  {
   "cell_type": "markdown",
   "id": "7a1abfbe",
   "metadata": {},
   "source": [
    "##  Piecewise Processing"
   ]
  },
  {
   "cell_type": "code",
   "execution_count": null,
   "id": "fb074280",
   "metadata": {
    "scrolled": true
   },
   "outputs": [],
   "source": [
    "# Get the entire FOV or a subrectangle of the entire FOV\n",
    "movie_mc_piece = movie_mc\n",
    "if hyp.piecewise_proc:\n",
    "    hslice = hyp.proc_slices[hyp.proc_index][0]\n",
    "    vslice = hyp.proc_slices[hyp.proc_index][1]\n",
    "    movie_mc_piece = movie_mc[:, hslice, vslice]"
   ]
  },
  {
   "cell_type": "code",
   "execution_count": null,
   "id": "0531b465",
   "metadata": {},
   "outputs": [],
   "source": [
    "# Switch to the results directory (debug)\n",
    "os.chdir(results_path)"
   ]
  },
  {
   "cell_type": "code",
   "execution_count": null,
   "id": "babe082f",
   "metadata": {},
   "outputs": [],
   "source": [
    "# Save the selection\n",
    "mmap_file = movie_mc_piece.save(hyp.name + '_' + str(hyp.proc_index) + '.mmap')"
   ]
  },
  {
   "cell_type": "markdown",
   "id": "53c65e55",
   "metadata": {},
   "source": [
    "## Memory Mapping"
   ]
  },
  {
   "cell_type": "code",
   "execution_count": null,
   "id": "93dd41a9",
   "metadata": {},
   "outputs": [],
   "source": [
    "# Save memory mapped files from piecewise processing\n",
    "base_name = hyp.name + '_' + str(hyp.proc_index) + '_memmap_'\n",
    "fname_mmap = cm.save_memmap([mmap_file], base_name=base_name, order='C', dview=dview)"
   ]
  },
  {
   "cell_type": "code",
   "execution_count": null,
   "id": "58227d59",
   "metadata": {},
   "outputs": [],
   "source": [
    "# Load memory mapped files from piecewise processing\n",
    "Yr, dims, T = cm.load_memmap(fname_mmap)\n",
    "images = np.reshape(Yr.T, [T] + list(dims), order='F')"
   ]
  },
  {
   "cell_type": "markdown",
   "id": "009a2756",
   "metadata": {},
   "source": [
    "## Source Extraction"
   ]
  },
  {
   "cell_type": "code",
   "execution_count": null,
   "id": "fbcf618c",
   "metadata": {},
   "outputs": [],
   "source": [
    "# Restart the cluster to clean up memory\n",
    "if 'dview' in locals():\n",
    "    cm.stop_server(dview=dview)\n",
    "dview, n_processes = cm.cluster.setup_cluster()[1:3]"
   ]
  },
  {
   "cell_type": "code",
   "execution_count": null,
   "id": "4e1e5721",
   "metadata": {},
   "outputs": [],
   "source": [
    "# Update the parameters to use the memory mapped file\n",
    "hyp.set_fname(fname_mmap)\n",
    "opts = params.CNMFParams(params_dict=hyp.params_dict)"
   ]
  },
  {
   "cell_type": "code",
   "execution_count": null,
   "id": "bf18c0f1",
   "metadata": {},
   "outputs": [],
   "source": [
    "# Run CNMF\n",
    "cnm = cnmf.CNMF(n_processes, params=opts, dview=dview)\n",
    "cnm = cnm.fit(images)"
   ]
  },
  {
   "cell_type": "code",
   "execution_count": null,
   "id": "c989eba6",
   "metadata": {},
   "outputs": [],
   "source": [
    "# Compute the correlation image\n",
    "corr_img = cm.local_correlations(images.transpose((1, 2, 0)))\n",
    "corr_img[np.isnan(corr_img)] = 0"
   ]
  },
  {
   "cell_type": "code",
   "execution_count": null,
   "id": "cda913a8",
   "metadata": {},
   "outputs": [],
   "source": [
    "# Plot the contours of any identified components\n",
    "cnm.estimates.plot_contours_nb(img=corr_img)"
   ]
  },
  {
   "cell_type": "markdown",
   "id": "1675615e",
   "metadata": {},
   "source": [
    "## Component Evaluation"
   ]
  },
  {
   "cell_type": "code",
   "execution_count": null,
   "id": "70250258",
   "metadata": {},
   "outputs": [],
   "source": [
    "# Evaluate the quality of inferred spatial components\n",
    "cnm.estimates.evaluate_components(images, cnm.params, dview=dview)"
   ]
  },
  {
   "cell_type": "code",
   "execution_count": null,
   "id": "1eae1a2e",
   "metadata": {},
   "outputs": [],
   "source": [
    "# Display plot of all components\n",
    "cnm.estimates.plot_contours_nb(img=corr_img, idx=cnm.estimates.idx_components)"
   ]
  },
  {
   "cell_type": "code",
   "execution_count": null,
   "id": "776f6915",
   "metadata": {},
   "outputs": [],
   "source": [
    "# Display plot of accepted components\n",
    "cnm.estimates.nb_view_components(img=corr_img, idx=cnm.estimates.idx_components)"
   ]
  },
  {
   "cell_type": "code",
   "execution_count": null,
   "id": "0acd8ccb",
   "metadata": {},
   "outputs": [],
   "source": [
    "# Display plot of rejected components, if any\n",
    "if len(cnm.estimates.idx_components_bad) > 0:\n",
    "    cnm.estimates.nb_view_components(img=corr_img, idx=cnm.estimates.idx_components_bad)"
   ]
  },
  {
   "cell_type": "code",
   "execution_count": null,
   "id": "2ef870f7",
   "metadata": {},
   "outputs": [],
   "source": [
    "# Keep only the accepted components\n",
    "cnm.estimates.select_components(use_object=True)"
   ]
  },
  {
   "cell_type": "markdown",
   "id": "ca38a47a",
   "metadata": {},
   "source": [
    "## Final Results"
   ]
  },
  {
   "cell_type": "code",
   "execution_count": null,
   "id": "5a6ed6e3",
   "metadata": {},
   "outputs": [],
   "source": [
    "# View a plot of the results\n",
    "cnm.estimates.nb_view_components(img=corr_img)"
   ]
  },
  {
   "cell_type": "code",
   "execution_count": null,
   "id": "a27fb1d8",
   "metadata": {},
   "outputs": [],
   "source": [
    "# View a movie of the results\n",
    "cnm.estimates.play_movie(images)"
   ]
  },
  {
   "cell_type": "code",
   "execution_count": null,
   "id": "423cd39d",
   "metadata": {},
   "outputs": [],
   "source": [
    "# Save results\n",
    "cnm.save(cnm.mmap_file[:-4] + 'hdf5')"
   ]
  },
  {
   "cell_type": "code",
   "execution_count": null,
   "id": "29a3fb76",
   "metadata": {},
   "outputs": [],
   "source": [
    "# Stop the cluster\n",
    "cm.stop_server(dview=dview)"
   ]
  }
 ],
 "metadata": {
  "kernelspec": {
   "display_name": "Python 3 (ipykernel)",
   "language": "python",
   "name": "python3"
  },
  "language_info": {
   "codemirror_mode": {
    "name": "ipython",
    "version": 3
   },
   "file_extension": ".py",
   "mimetype": "text/x-python",
   "name": "python",
   "nbconvert_exporter": "python",
   "pygments_lexer": "ipython3",
   "version": "3.9.16"
  }
 },
 "nbformat": 4,
 "nbformat_minor": 5
}
