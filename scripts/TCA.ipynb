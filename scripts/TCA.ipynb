{
 "cells": [
  {
   "cell_type": "code",
   "execution_count": null,
   "id": "ffaca913",
   "metadata": {},
   "outputs": [],
   "source": [
    "import tensortools as tt\n",
    "\n",
    "import matplotlib.pyplot as plt\n",
    "import numpy as np\n",
    "\n",
    "import os\n",
    "\n",
    "from src.decomposition_hyperparams import Hyperparams"
   ]
  },
  {
   "cell_type": "markdown",
   "id": "caaa3187",
   "metadata": {},
   "source": [
    "## Parameter Setup"
   ]
  },
  {
   "cell_type": "code",
   "execution_count": null,
   "id": "a94c3d7c",
   "metadata": {},
   "outputs": [],
   "source": [
    "# Hyperparameters for F147\n",
    "F147 = Hyperparams(name='F147')\n",
    "F147.set_path(path='F147_tensor_minmax.npy')\n",
    "F147.set_decomp_params(n_components=range(6, 7), rep=5)\n",
    "F147.set_decomp_methods(methods=['ncp_bcd', 'ncp_hals'])\n",
    "F147.set_events(\n",
    "    events_name=['Laser On', 'Initial Turn', 'Laser Off'],\n",
    "    events_time=[22, 166, 184]\n",
    ")"
   ]
  },
  {
   "cell_type": "code",
   "execution_count": null,
   "id": "29aefcac",
   "metadata": {},
   "outputs": [],
   "source": [
    "# Hyperparameters for F201\n",
    "F201 = Hyperparams(name='F201')\n",
    "F201.set_path(path='F201_tensor_minmax.npy')\n",
    "F201.set_decomp_params(n_components=range(6, 7), rep=5)\n",
    "F201.set_decomp_methods(methods=['ncp_bcd', 'ncp_hals'])\n",
    "F201.set_events(\n",
    "    events_name=['Laser On', 'Initial Turn', 'Laser Off'],\n",
    "    events_time=[22, 83, 101]\n",
    ")"
   ]
  },
  {
   "cell_type": "code",
   "execution_count": null,
   "id": "b613f8e8",
   "metadata": {},
   "outputs": [],
   "source": [
    "# Choose which hyperparameters to use\n",
    "hyp = F147"
   ]
  },
  {
   "cell_type": "markdown",
   "id": "67d485fd",
   "metadata": {},
   "source": [
    "## Data Loading"
   ]
  },
  {
   "cell_type": "code",
   "execution_count": null,
   "id": "feba763d",
   "metadata": {},
   "outputs": [],
   "source": [
    "# Load the data\n",
    "os.chdir('../results/')\n",
    "tensor = np.load(hyp.path)"
   ]
  },
  {
   "cell_type": "markdown",
   "id": "53790733",
   "metadata": {},
   "source": [
    "## TCA"
   ]
  },
  {
   "cell_type": "code",
   "execution_count": null,
   "id": "fa6b4846",
   "metadata": {},
   "outputs": [],
   "source": [
    "# Fit ensembles of tensor decompositions\n",
    "ensembles = {}\n",
    "for m in hyp.methods:\n",
    "    ensembles[m] = tt.Ensemble(fit_method=m)\n",
    "    ensembles[m].fit(tensor, ranks=hyp.n_components, replicates=hyp.rep)"
   ]
  },
  {
   "cell_type": "markdown",
   "id": "394d8877",
   "metadata": {},
   "source": [
    "## Choosing Rank"
   ]
  },
  {
   "cell_type": "code",
   "execution_count": null,
   "id": "9cf7a5f8",
   "metadata": {},
   "outputs": [],
   "source": [
    "# Set the plot size\n",
    "plt.figure(figsize=(3, 2))\n",
    "\n",
    "# Create an error plot\n",
    "for m in hyp.methods:\n",
    "    tt.plot_objective(ensembles[m])\n",
    "\n",
    "# Add a title\n",
    "plt.title(hyp.name + \" TCA Error Plot\")\n",
    "\n",
    "# Display the plot\n",
    "plt.show()"
   ]
  },
  {
   "cell_type": "code",
   "execution_count": null,
   "id": "3dc27494",
   "metadata": {},
   "outputs": [],
   "source": [
    "# Set the plot size\n",
    "plt.figure(figsize=(3, 2))\n",
    "\n",
    "# Create a similarity plot\n",
    "for m in hyp.methods:\n",
    "    tt.plot_similarity(ensembles[m])\n",
    "\n",
    "# Add a title\n",
    "plt.title(hyp.name + \" TCA Similarity Plot\")\n",
    "\n",
    "# Display the plot\n",
    "plt.show()"
   ]
  },
  {
   "cell_type": "code",
   "execution_count": null,
   "id": "ca18a30c",
   "metadata": {},
   "outputs": [],
   "source": [
    "# Set the desired rank\n",
    "rank = 6"
   ]
  },
  {
   "cell_type": "markdown",
   "id": "19ef48f0",
   "metadata": {},
   "source": [
    "## Optimal Model"
   ]
  },
  {
   "cell_type": "code",
   "execution_count": null,
   "id": "5a36f39a",
   "metadata": {},
   "outputs": [],
   "source": [
    "# Create lists to hold the best fits\n",
    "best_obj = []\n",
    "best_factors = []"
   ]
  },
  {
   "cell_type": "code",
   "execution_count": null,
   "id": "f553d038",
   "metadata": {},
   "outputs": [],
   "source": [
    "# Get the best fits for each method\n",
    "for m in hyp.methods:\n",
    "    best_obj.append(ensembles[m].objectives(rank)[0])\n",
    "    best_factors.append(ensembles[m].factors(rank)[0])"
   ]
  },
  {
   "cell_type": "code",
   "execution_count": null,
   "id": "2daa1dba",
   "metadata": {},
   "outputs": [],
   "source": [
    "# Find the tensor with the lowest error\n",
    "tensor_red = best_factors[np.argmin(best_obj)]"
   ]
  },
  {
   "cell_type": "code",
   "execution_count": null,
   "id": "64dd58a3",
   "metadata": {
    "scrolled": true
   },
   "outputs": [],
   "source": [
    "# Organize the tensor by decreasing values of lambda\n",
    "tensor_red.permute(np.flip(np.argsort(tensor_red.component_lams())))\n",
    "tensor_red.component_lams()"
   ]
  },
  {
   "cell_type": "markdown",
   "id": "9518ad38",
   "metadata": {},
   "source": [
    "## TCA Component Visualization"
   ]
  },
  {
   "cell_type": "code",
   "execution_count": null,
   "id": "988d2eb8",
   "metadata": {},
   "outputs": [],
   "source": [
    "# Names and units of factors\n",
    "factors = ['Trial Factors', 'Neuron Factors', 'Time Factors']\n",
    "units = ['Trial', 'Neuron', 'Time']\n",
    "\n",
    "# Color list\n",
    "colors = plt.rcParams['axes.prop_cycle'].by_key()['color']"
   ]
  },
  {
   "cell_type": "code",
   "execution_count": null,
   "id": "0f824002",
   "metadata": {
    "scrolled": false
   },
   "outputs": [],
   "source": [
    "%matplotlib inline\n",
    "\n",
    "# Create subplots for 2D plots\n",
    "fig, axs = plt.subplots(nrows=rank, ncols=3, sharex='col', sharey='col', figsize=(5.5, 1.2 * rank))\n",
    "\n",
    "# Plot data\n",
    "for row in range(axs.shape[0]):\n",
    "    for col in range(axs.shape[1]):\n",
    "        axs[row, col].plot(tensor_red.factors[col][:, row])\n",
    "        \n",
    "        # Add feature labels\n",
    "        if row == 0:\n",
    "            axs[row, col].set_title(factors[col])\n",
    "        \n",
    "        # Add component labels and dividing lines for trial factors\n",
    "        if col == 0:\n",
    "            axs[row, col].set_ylabel(\"Comp. \" + str(row + 1))\n",
    "            axs[row, col].axvline(tensor_red.factors[col][:, row].size // 2, c='k')\n",
    "        \n",
    "        # Add units\n",
    "        if row == axs.shape[0] - 1:\n",
    "            axs[row, col].set_xlabel(units[col])\n",
    "        \n",
    "        # Add event lines\n",
    "        if col == 2:\n",
    "            for i in range(len(hyp.events_time)):\n",
    "                axs[row, col].axvline(hyp.events_time[i], c=colors[i + 1], label=hyp.events_name[i])\n",
    "\n",
    "# Add title and legend\n",
    "fig.suptitle(hyp.name + \" TCA Components\", y=1.01)\n",
    "fig.legend(*axs[0, 2].get_legend_handles_labels(), loc=1, fontsize='x-small')\n",
    "        \n",
    "# Adjust subplot padding\n",
    "plt.tight_layout()\n",
    "\n",
    "# Display the plot\n",
    "plt.show()"
   ]
  },
  {
   "cell_type": "code",
   "execution_count": null,
   "id": "32a719e4",
   "metadata": {
    "scrolled": false
   },
   "outputs": [],
   "source": [
    "%matplotlib qt\n",
    "\n",
    "# Create 3D plots for the first three TCA components\n",
    "for factor in range(len(factors)):\n",
    "    fig, ax = plt.subplots(subplot_kw={'projection': '3d'})\n",
    "    \n",
    "    # Plot points\n",
    "    ax.scatter(tensor_red.factors[factor][:, 0],\n",
    "               tensor_red.factors[factor][:, 1],\n",
    "               tensor_red.factors[factor][:, 2],\n",
    "               c=np.arange(tensor_red.factors[factor].shape[0]), cmap='gist_rainbow')\n",
    "    \n",
    "    # Add axis labels and a title\n",
    "    ax.set_xlabel(\"Component 1\")\n",
    "    ax.set_ylabel(\"Component 2\")\n",
    "    ax.set_zlabel(\"Component 3\")\n",
    "    ax.set_title(factors[factor])\n",
    "    \n",
    "    # Display the plot\n",
    "    plt.show()"
   ]
  },
  {
   "cell_type": "markdown",
   "id": "1fe228da",
   "metadata": {},
   "source": [
    "## \"Time Factors\" Within Trials (Experimental)"
   ]
  },
  {
   "cell_type": "code",
   "execution_count": null,
   "id": "dff5e71b",
   "metadata": {},
   "outputs": [],
   "source": [
    "# Create an array of time factors within each trial\n",
    "time_factors_within_trials = np.empty((rank, tensor.shape[0], tensor.shape[2]))    \n",
    "for i in range(rank):\n",
    "    for trial in range(tensor.shape[0]):\n",
    "        time_factors_within_trials[i, trial] = tensor_red.factors[1].T[i] @ tensor[trial]"
   ]
  },
  {
   "cell_type": "code",
   "execution_count": null,
   "id": "d8bca0e7",
   "metadata": {},
   "outputs": [],
   "source": [
    "# Get plotting colors\n",
    "import matplotlib as mpl\n",
    "cmap = mpl.colormaps['gist_rainbow']"
   ]
  },
  {
   "cell_type": "code",
   "execution_count": null,
   "id": "19dc9518",
   "metadata": {
    "scrolled": false
   },
   "outputs": [],
   "source": [
    "%matplotlib inline\n",
    "\n",
    "# Create plots of the factors within trials\n",
    "fig, axs = plt.subplots(nrows=3, ncols=2, sharex=True, figsize=(5.5, 1.2 * rank))\n",
    "for i in range(rank):\n",
    "    \n",
    "    # Location of the plot in the figure\n",
    "    row, col = i % 3, i // 3\n",
    "    \n",
    "    # Randomly permute the order of trials and plot lines (makes the color distribution more even)\n",
    "    for trial in np.random.permutation(np.arange(0, tensor.shape[0], 2)):\n",
    "        axs[row, col].plot(time_factors_within_trials[i, trial], c=cmap(trial / tensor.shape[0], alpha=0.5))\n",
    "        \n",
    "        # Add component labels\n",
    "        axs[row, col].set_ylabel(\"Comp. \" + str(i + 1))\n",
    "        \n",
    "        # Add axis labels\n",
    "        if row == 2:\n",
    "            axs[row, col].set_xlabel(\"Time\")\n",
    "\n",
    "# Add plot title\n",
    "fig.suptitle(hyp.name)\n",
    "\n",
    "# Adjust subplot padding\n",
    "plt.tight_layout()\n",
    "\n",
    "# Display the plot\n",
    "plt.show()"
   ]
  }
 ],
 "metadata": {
  "kernelspec": {
   "display_name": "Python 3 (ipykernel)",
   "language": "python",
   "name": "python3"
  },
  "language_info": {
   "codemirror_mode": {
    "name": "ipython",
    "version": 3
   },
   "file_extension": ".py",
   "mimetype": "text/x-python",
   "name": "python",
   "nbconvert_exporter": "python",
   "pygments_lexer": "ipython3",
   "version": "3.9.16"
  }
 },
 "nbformat": 4,
 "nbformat_minor": 5
}
