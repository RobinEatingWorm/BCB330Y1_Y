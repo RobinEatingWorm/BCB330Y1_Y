{
 "cells": [
  {
   "cell_type": "code",
   "execution_count": null,
   "id": "ed0c75f3",
   "metadata": {},
   "outputs": [],
   "source": [
    "from caiman.source_extraction.cnmf import cnmf\n",
    "\n",
    "import matplotlib.pyplot as plt\n",
    "import numpy as np\n",
    "from scipy import stats\n",
    "import seaborn as sns\n",
    "\n",
    "import os"
   ]
  },
  {
   "cell_type": "markdown",
   "id": "d2393624",
   "metadata": {},
   "source": [
    "## File Setup"
   ]
  },
  {
   "cell_type": "code",
   "execution_count": null,
   "id": "0e0d2b73",
   "metadata": {},
   "outputs": [],
   "source": [
    "# Move to the results directory\n",
    "os.chdir('../results/')"
   ]
  },
  {
   "cell_type": "code",
   "execution_count": null,
   "id": "285c98bd",
   "metadata": {},
   "outputs": [],
   "source": [
    "# Results for F147\n",
    "F147 = [\n",
    "    'F147_0_memmap__d1_247_d2_256_d3_1_order_C_frames_41990_.hdf5',\n",
    "    'F147_1_memmap__d1_73_d2_256_d3_1_order_C_frames_41990_.hdf5'\n",
    "]"
   ]
  },
  {
   "cell_type": "code",
   "execution_count": null,
   "id": "632bc1e3",
   "metadata": {},
   "outputs": [],
   "source": [
    "# Results for F201\n",
    "F201 = [\n",
    "    'F201_0_memmap__d1_320_d2_256_d3_1_order_C_frames_48080_.hdf5'\n",
    "]"
   ]
  },
  {
   "cell_type": "code",
   "execution_count": null,
   "id": "765c5e5f",
   "metadata": {},
   "outputs": [],
   "source": [
    "# Choose which results to display\n",
    "fnames = F147"
   ]
  },
  {
   "cell_type": "markdown",
   "id": "ad3c4ec2",
   "metadata": {},
   "source": [
    "## Data Loading"
   ]
  },
  {
   "cell_type": "code",
   "execution_count": null,
   "id": "ddabed3d",
   "metadata": {},
   "outputs": [],
   "source": [
    "# Load all files containing results\n",
    "cnms = []\n",
    "for fname in fnames:\n",
    "    cnms.append(cnmf.load_CNMF(fname))\n",
    "\n",
    "# Get the neural activity traces\n",
    "traces = []\n",
    "for cnm in cnms:\n",
    "    traces.append(cnm.estimates.C)"
   ]
  },
  {
   "cell_type": "code",
   "execution_count": null,
   "id": "237974b0",
   "metadata": {},
   "outputs": [],
   "source": [
    "# Concatenate all traces\n",
    "data = np.concatenate(traces, axis=0)"
   ]
  },
  {
   "cell_type": "markdown",
   "id": "966644e5",
   "metadata": {},
   "source": [
    "## Normalization"
   ]
  },
  {
   "cell_type": "code",
   "execution_count": null,
   "id": "056e8c0f",
   "metadata": {},
   "outputs": [],
   "source": [
    "# Z-score normalization\n",
    "data = stats.zscore(data, axis=1, ddof=1)"
   ]
  },
  {
   "cell_type": "code",
   "execution_count": null,
   "id": "d9178e2f",
   "metadata": {},
   "outputs": [],
   "source": [
    "# Min-max normalization\n",
    "maxima = np.max(data, axis=1, keepdims=True)\n",
    "minima = np.min(data, axis=1, keepdims=True)\n",
    "data = (data - minima) / (maxima - minima)"
   ]
  },
  {
   "cell_type": "markdown",
   "id": "c75479fe",
   "metadata": {},
   "source": [
    "## Heatmap"
   ]
  },
  {
   "cell_type": "code",
   "execution_count": null,
   "id": "88909623",
   "metadata": {},
   "outputs": [],
   "source": [
    "# Display a heatmap\n",
    "sns.set_theme(rc={'figure.figsize': (17, 8.5)})\n",
    "sns.heatmap(data, cmap='jet')\n",
    "plt.show()"
   ]
  }
 ],
 "metadata": {
  "kernelspec": {
   "display_name": "Python 3 (ipykernel)",
   "language": "python",
   "name": "python3"
  },
  "language_info": {
   "codemirror_mode": {
    "name": "ipython",
    "version": 3
   },
   "file_extension": ".py",
   "mimetype": "text/x-python",
   "name": "python",
   "nbconvert_exporter": "python",
   "pygments_lexer": "ipython3",
   "version": "3.9.16"
  }
 },
 "nbformat": 4,
 "nbformat_minor": 5
}
