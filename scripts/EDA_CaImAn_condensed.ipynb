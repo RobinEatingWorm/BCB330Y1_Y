{
 "cells": [
  {
   "cell_type": "code",
   "execution_count": 1,
   "id": "f0ee1c90",
   "metadata": {},
   "outputs": [],
   "source": [
    "import caiman as cm\n",
    "from caiman.source_extraction.cnmf import cnmf, params\n",
    "\n",
    "import src.caiman_macros as cm_macros\n",
    "\n",
    "from datetime import datetime\n",
    "import os\n",
    "\n",
    "\n",
    "os.chdir('C:/Users/pugavin/BCB-330-2023-05')"
   ]
  },
  {
   "cell_type": "code",
   "execution_count": 2,
   "id": "bdb13d12",
   "metadata": {
    "scrolled": true
   },
   "outputs": [
    {
     "name": "stderr",
     "output_type": "stream",
     "text": [
      "<tifffile.TiffFile 'F147_20210526_fi…_9dpf_00001.tif'> asarray failed to reshape (41990, 320, 256) to (26000, 2, 320, 256)\n",
      "WARNING:tifffile.tifffile:<tifffile.TiffFile 'F201_20210812_fi…_9dpf_00001.tif'> asarray failed to reshape (48080, 320, 256) to (31000, 2, 320, 256)\n"
     ]
    }
   ],
   "source": [
    "# Load and resave the data\n",
    "# See GitHub Issue #377 - https://github.com/flatironinstitute/CaImAn/issues/377#issuecomment-426740429\n",
    "data = ['data/2p_raw/F147/F147_20210526_fish4_blk1_LT_9dpf_00001.tif', \n",
    "         'data/2p_raw/F201/F201_20210812_fish2_blk1_RT_9dpf_00001.tif']\n",
    "fnames = ['results/F147.tif', 'results/F201.tif']\n",
    "cm_macros.resave_data(data, fnames)"
   ]
  },
  {
   "cell_type": "code",
   "execution_count": 3,
   "id": "6f0b337e",
   "metadata": {},
   "outputs": [],
   "source": [
    "# Parameter list for CNMF\n",
    "params_dict = {\n",
    "    'use_cuda': True   # Use a GPU\n",
    "}"
   ]
  },
  {
   "cell_type": "code",
   "execution_count": 4,
   "id": "050aea34",
   "metadata": {
    "scrolled": false
   },
   "outputs": [
    {
     "name": "stderr",
     "output_type": "stream",
     "text": [
      "WARNING:root:Movie average is negative. Removing 1st percentile.\n",
      "WARNING:root:Movie average is negative. Removing 1st percentile.\n",
      "WARNING:root:Movie average is negative. Removing 1st percentile.\n"
     ]
    },
    {
     "name": "stdout",
     "output_type": "stream",
     "text": [
      "GPU run not requested, disabling use of GPUs\n",
      "USING MODEL (keras API): C:\\Users\\pugavin\\caiman_data\\model\\cnn_model.json\n",
      "1/1 [==============================] - 0s 214ms/step\n"
     ]
    },
    {
     "name": "stderr",
     "output_type": "stream",
     "text": [
      "WARNING:root:Movie average is negative. Removing 1st percentile.\n",
      "WARNING:root:Movie average is negative. Removing 1st percentile.\n",
      "WARNING:root:Movie average is negative. Removing 1st percentile.\n"
     ]
    },
    {
     "name": "stdout",
     "output_type": "stream",
     "text": [
      "GPU run not requested, disabling use of GPUs\n",
      "USING MODEL (keras API): C:\\Users\\pugavin\\caiman_data\\model\\cnn_model.json\n",
      "1/1 [==============================] - 0s 93ms/step\n"
     ]
    }
   ],
   "source": [
    "# Analyze both files\n",
    "cnms = []\n",
    "for fname in fnames:\n",
    "    \n",
    "    # Add the file to the parameter dictionary\n",
    "    params_dict['fnames'] = [fname]\n",
    "    \n",
    "    # Start a cluster\n",
    "    dview, n_processes = cm_macros.start_cluster()\n",
    "\n",
    "    # Run the CaImAn pipeline\n",
    "    try:\n",
    "        cnms.append(cm_macros.run_pipeline(n_processes, params_dict, dview))\n",
    "    except Exception:\n",
    "        cm_macros.stop_cluster()"
   ]
  }
 ],
 "metadata": {
  "kernelspec": {
   "display_name": "Python 3 (ipykernel)",
   "language": "python",
   "name": "python3"
  },
  "language_info": {
   "codemirror_mode": {
    "name": "ipython",
    "version": 3
   },
   "file_extension": ".py",
   "mimetype": "text/x-python",
   "name": "python",
   "nbconvert_exporter": "python",
   "pygments_lexer": "ipython3",
   "version": "3.9.16"
  }
 },
 "nbformat": 4,
 "nbformat_minor": 5
}
