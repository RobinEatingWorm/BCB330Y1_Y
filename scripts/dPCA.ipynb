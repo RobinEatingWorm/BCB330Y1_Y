{
 "cells": [
  {
   "cell_type": "code",
   "execution_count": null,
   "id": "c1d09e91",
   "metadata": {},
   "outputs": [],
   "source": [
    "from dPCA import dPCA\n",
    "\n",
    "import matplotlib.pyplot as plt\n",
    "import numpy as np\n",
    "import scipy.io as sio\n",
    "\n",
    "import os\n",
    "\n",
    "from src.tensor import centered_trial_average"
   ]
  },
  {
   "cell_type": "markdown",
   "id": "0d74fb06",
   "metadata": {},
   "source": [
    "## File Setup"
   ]
  },
  {
   "cell_type": "code",
   "execution_count": null,
   "id": "6f743a34",
   "metadata": {},
   "outputs": [],
   "source": [
    "# Relevant files for F147\n",
    "F147 = {\n",
    "    'tensor': 'F147_tensor.npy',\n",
    "    'trial': '2p_raw/F147/20210526_LT_18_0.mat'\n",
    "}"
   ]
  },
  {
   "cell_type": "code",
   "execution_count": null,
   "id": "4b45aa09",
   "metadata": {},
   "outputs": [],
   "source": [
    "# Relevant files for F201\n",
    "F201 = {\n",
    "    'tensor': 'F201_Z-Score.npy',\n",
    "    'trial': '2p_raw/F201/20210812_RT_13_59.mat'\n",
    "}"
   ]
  },
  {
   "cell_type": "code",
   "execution_count": null,
   "id": "8b22d79e",
   "metadata": {},
   "outputs": [],
   "source": [
    "# Select which files to load\n",
    "path = F147"
   ]
  },
  {
   "cell_type": "code",
   "execution_count": null,
   "id": "fda01317",
   "metadata": {},
   "outputs": [],
   "source": [
    "# Move to the data directory and load trial metadata\n",
    "os.chdir('../data/')\n",
    "trial_info = sio.loadmat(path['trial'])['trial']"
   ]
  },
  {
   "cell_type": "code",
   "execution_count": null,
   "id": "c9a19a1c",
   "metadata": {},
   "outputs": [],
   "source": [
    "# Move to the results directory and load data tensor\n",
    "os.chdir('../results/')\n",
    "tensor = np.load(path['tensor'])"
   ]
  },
  {
   "cell_type": "markdown",
   "id": "98eb5aec",
   "metadata": {},
   "source": [
    "## Stimuli Separation"
   ]
  },
  {
   "cell_type": "code",
   "execution_count": null,
   "id": "47fd68fa",
   "metadata": {},
   "outputs": [],
   "source": [
    "# Add the stimulus axis to the tensor\n",
    "tensor_stim = np.expand_dims(tensor, axis=2)"
   ]
  },
  {
   "cell_type": "code",
   "execution_count": null,
   "id": "931101f8",
   "metadata": {},
   "outputs": [],
   "source": [
    "# Calculate centered trial averages\n",
    "tensor_cta = centered_trial_average(tensor_stim, trial_axis=0, neuron_axis=1)"
   ]
  },
  {
   "cell_type": "code",
   "execution_count": null,
   "id": "85a8c749",
   "metadata": {},
   "outputs": [],
   "source": [
    "# Initialize a dPCA object\n",
    "dpca = dPCA.dPCA(labels='st', n_components=3, regularizer='auto')\n",
    "dpca.protect = ['t']"
   ]
  },
  {
   "cell_type": "code",
   "execution_count": null,
   "id": "cc7657c6",
   "metadata": {
    "scrolled": true
   },
   "outputs": [],
   "source": [
    "# Perform dPCA using a debugged version of the package\n",
    "# In the source code, there is a bug on line 660 of dPCA/python/dPCA/dPCA.py\n",
    "# This causes the function train_test_split to fail when there is only one stimulus\n",
    "Z = dpca.fit_transform(tensor_cta, tensor_stim)"
   ]
  },
  {
   "cell_type": "code",
   "execution_count": null,
   "id": "1230e3a5",
   "metadata": {},
   "outputs": [],
   "source": [
    "%matplotlib inline\n",
    "\n",
    "time = np.arange(Z['t'].shape[2])\n",
    "order = {0: '1st', 1: '2nd', 2: '3rd'}\n",
    "\n",
    "for i in range(Z['t'].shape[0]):\n",
    "    plt.figure(figsize=(16,7))\n",
    "    plt.subplot(131)\n",
    "    for s in range(Z['t'].shape[1]):\n",
    "        plt.plot(time,Z['t'][i,s])\n",
    "    plt.title(order[i] + ' time component')\n",
    "    plt.subplot(132)\n",
    "    for s in range(Z['t'].shape[1]):\n",
    "        plt.plot(time,Z['s'][i,s])\n",
    "    plt.title(order[i] + ' stimulus component')\n",
    "    plt.subplot(133)\n",
    "    for s in range(Z['t'].shape[1]):\n",
    "        plt.plot(time,Z['st'][i,s])\n",
    "    plt.title(order[i] + ' mixing component')\n",
    "    plt.show()"
   ]
  },
  {
   "cell_type": "code",
   "execution_count": null,
   "id": "cd7e1fc5",
   "metadata": {
    "scrolled": true
   },
   "outputs": [],
   "source": [
    "%matplotlib qt\n",
    "\n",
    "name = {'s': 'Stimulus', 't': 'Time', 'st': 'Mixed'}\n",
    "\n",
    "for label in Z.keys():\n",
    "    fig, ax = plt.subplots(subplot_kw={'projection': '3d'})\n",
    "    ax.scatter(Z[label][0, 0], Z[label][1, 0], Z[label][2, 0],\n",
    "               c=np.arange(Z[label].shape[2]), cmap='gist_rainbow')\n",
    "    ax.set_xlabel('dPC1')\n",
    "    ax.set_ylabel('dPC2')\n",
    "    ax.set_zlabel('dPC3')\n",
    "    ax.set_title(name[label])\n",
    "    plt.show()"
   ]
  }
 ],
 "metadata": {
  "kernelspec": {
   "display_name": "Python 3 (ipykernel)",
   "language": "python",
   "name": "python3"
  },
  "language_info": {
   "codemirror_mode": {
    "name": "ipython",
    "version": 3
   },
   "file_extension": ".py",
   "mimetype": "text/x-python",
   "name": "python",
   "nbconvert_exporter": "python",
   "pygments_lexer": "ipython3",
   "version": "3.9.16"
  }
 },
 "nbformat": 4,
 "nbformat_minor": 5
}
