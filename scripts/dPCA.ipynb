{
 "cells": [
  {
   "cell_type": "code",
   "execution_count": null,
   "id": "c1d09e91",
   "metadata": {},
   "outputs": [],
   "source": [
    "from dPCA import dPCA\n",
    "\n",
    "import matplotlib.pyplot as plt\n",
    "import numpy as np\n",
    "import scipy.io as sio\n",
    "\n",
    "import os\n",
    "\n",
    "from src.decomposition_hyperparams import Hyperparams\n",
    "from src.tensor import centered_trial_average"
   ]
  },
  {
   "cell_type": "markdown",
   "id": "0d74fb06",
   "metadata": {},
   "source": [
    "## Parameter Setup"
   ]
  },
  {
   "cell_type": "code",
   "execution_count": null,
   "id": "6f743a34",
   "metadata": {},
   "outputs": [],
   "source": [
    "# Hyperparameters for F147\n",
    "F147 = Hyperparams(name='F147')\n",
    "F147.set_path(path='F147_tensor_zscore.npy')\n",
    "F147.set_events(\n",
    "    events_name=['Laser On', 'Initial Turn', 'Laser Off'],\n",
    "    events_time=[22, 166, 184]\n",
    ")"
   ]
  },
  {
   "cell_type": "code",
   "execution_count": null,
   "id": "4b45aa09",
   "metadata": {},
   "outputs": [],
   "source": [
    "# Hyperparameters for F201\n",
    "F201 = Hyperparams(name='F201')\n",
    "F201.set_path(path='F201_tensor_zscore.npy')\n",
    "F201.set_events(\n",
    "    events_name=['Laser On', 'Initial Turn', 'Laser Off'],\n",
    "    events_time=[22, 83, 101]\n",
    ")"
   ]
  },
  {
   "cell_type": "code",
   "execution_count": null,
   "id": "8b22d79e",
   "metadata": {},
   "outputs": [],
   "source": [
    "# Select which hyperparameters to use\n",
    "hyp = F147"
   ]
  },
  {
   "cell_type": "markdown",
   "id": "bd8333a0",
   "metadata": {},
   "source": [
    "## Data Preparation"
   ]
  },
  {
   "cell_type": "code",
   "execution_count": null,
   "id": "c9a19a1c",
   "metadata": {},
   "outputs": [],
   "source": [
    "# Move to the results directory and load data tensor\n",
    "os.chdir('../results/')\n",
    "tensor = np.load(hyp.path)"
   ]
  },
  {
   "cell_type": "code",
   "execution_count": null,
   "id": "47fd68fa",
   "metadata": {},
   "outputs": [],
   "source": [
    "# Add the stimulus axis to the tensor\n",
    "tensor_stim = np.expand_dims(tensor, axis=2)"
   ]
  },
  {
   "cell_type": "code",
   "execution_count": null,
   "id": "931101f8",
   "metadata": {},
   "outputs": [],
   "source": [
    "# Calculate centered trial averages\n",
    "tensor_cta = centered_trial_average(tensor_stim, trial_axis=0, neuron_axis=1)"
   ]
  },
  {
   "cell_type": "markdown",
   "id": "98eb5aec",
   "metadata": {},
   "source": [
    "## dPCA"
   ]
  },
  {
   "cell_type": "code",
   "execution_count": null,
   "id": "5cf59d43",
   "metadata": {},
   "outputs": [],
   "source": [
    "# Initialize a dPCA object\n",
    "dpca = dPCA.dPCA(labels='st', join={'s': ['s', 'st']}, n_components=3, regularizer='auto')\n",
    "dpca.protect = ['t']"
   ]
  },
  {
   "cell_type": "code",
   "execution_count": null,
   "id": "0091efba",
   "metadata": {},
   "outputs": [],
   "source": [
    "# Perform dPCA using a debugged version of the package\n",
    "# In the source code, there is a bug on line 660 of dPCA/python/dPCA/dPCA.py\n",
    "# This causes the function train_test_split to fail when there is only one stimulus\n",
    "Z = dpca.fit_transform(tensor_cta, tensor_stim)"
   ]
  },
  {
   "cell_type": "code",
   "execution_count": null,
   "id": "0c344d1c",
   "metadata": {},
   "outputs": [],
   "source": [
    "# TODO: Regularization parameter plot - x: lambda, y: residual variance over total test variance\n",
    "# TODO: Use cross validation"
   ]
  },
  {
   "cell_type": "markdown",
   "id": "82524eea",
   "metadata": {},
   "source": [
    "## dPC Visualization"
   ]
  },
  {
   "cell_type": "code",
   "execution_count": null,
   "id": "fdc741a5",
   "metadata": {},
   "outputs": [],
   "source": [
    "# Full names of each label\n",
    "names = {'t': 'Condition-Independent', 's': 'Stimulus-Independent'}\n",
    "\n",
    "# Color list\n",
    "colors = plt.rcParams['axes.prop_cycle'].by_key()['color']"
   ]
  },
  {
   "cell_type": "code",
   "execution_count": null,
   "id": "95001b43",
   "metadata": {},
   "outputs": [],
   "source": [
    "# Adjust the row order of features to plot\n",
    "order = {0: 't', 1: 's'}"
   ]
  },
  {
   "cell_type": "code",
   "execution_count": null,
   "id": "980deef5",
   "metadata": {
    "scrolled": false
   },
   "outputs": [],
   "source": [
    "%matplotlib inline\n",
    "\n",
    "# Create subplots for 2D plots\n",
    "fig, axs = plt.subplots(nrows=3, ncols=2, sharex=True, sharey='col', figsize=(5.5, 5))\n",
    "\n",
    "# Plot data\n",
    "for row in range(axs.shape[0]):\n",
    "    for col in range(axs.shape[1]):\n",
    "        axs[row, col].plot(Z[order[col]][row, 0])\n",
    "        \n",
    "        # Add feature labels\n",
    "        if row == 0:\n",
    "            axs[row, col].set_title(names[order[col]])\n",
    "        \n",
    "        # Add component labels\n",
    "        if col == 0:\n",
    "            axs[row, col].set_ylabel(\"dPC \" + str(row + 1))\n",
    "            \n",
    "        # Add units\n",
    "        if row == axs.shape[0] - 1:\n",
    "            axs[row, col].set_xlabel(\"Time\")\n",
    "        \n",
    "        # Add event lines\n",
    "        for i in range(len(hyp.events_time)):\n",
    "            axs[row, col].axvline(hyp.events_time[i], c=colors[i + 1], label=hyp.events_name[i])\n",
    "\n",
    "# Adjust subplot padding\n",
    "fig.tight_layout()\n",
    "            \n",
    "# Add title and legend\n",
    "fig.suptitle(hyp.name + \" Demixed Principal Components (dPCs)\", y=1.06)\n",
    "fig.legend(*axs[0, 0].get_legend_handles_labels(), loc=1, fontsize='x-small')\n",
    "\n",
    "# Display the plot\n",
    "plt.show()"
   ]
  },
  {
   "cell_type": "code",
   "execution_count": null,
   "id": "cd7e1fc5",
   "metadata": {
    "scrolled": true
   },
   "outputs": [],
   "source": [
    "%matplotlib qt\n",
    "\n",
    "# Generate 3D plots\n",
    "for label in Z.keys():\n",
    "    \n",
    "    # Plot the points using the three dPCs as axes\n",
    "    fig, ax = plt.subplots(subplot_kw={'projection': '3d'})\n",
    "    ax.scatter(Z[label][0, 0], Z[label][1, 0], Z[label][2, 0],\n",
    "               c=np.arange(Z[label].shape[2]), cmap='gist_rainbow', alpha=0.4)\n",
    "    \n",
    "    # Plot event points\n",
    "    for i in range(len(hyp.events_time)):\n",
    "        ax.scatter(Z[label][0, 0][hyp.events_time[i]], Z[label][1, 0][hyp.events_time[i]], Z[label][2, 0][hyp.events_time[i]],\n",
    "                   s=144, c=colors[i + 1], marker='x', label=hyp.events_name[i])\n",
    "    \n",
    "    # Add title and labels\n",
    "    ax.set_xlabel(\"dPC 1\")\n",
    "    ax.set_ylabel(\"dPC 2\")\n",
    "    ax.set_zlabel(\"dPC 3\")\n",
    "    ax.set_title(hyp.name + \" \" + names[label] + \" Components\")\n",
    "    \n",
    "    # Add legend\n",
    "    plt.legend(*ax.get_legend_handles_labels(), loc=[1, 0.88], fontsize='small')\n",
    "    \n",
    "    # Display the plot\n",
    "    plt.show()"
   ]
  }
 ],
 "metadata": {
  "kernelspec": {
   "display_name": "Python 3 (ipykernel)",
   "language": "python",
   "name": "python3"
  },
  "language_info": {
   "codemirror_mode": {
    "name": "ipython",
    "version": 3
   },
   "file_extension": ".py",
   "mimetype": "text/x-python",
   "name": "python",
   "nbconvert_exporter": "python",
   "pygments_lexer": "ipython3",
   "version": "3.9.16"
  }
 },
 "nbformat": 4,
 "nbformat_minor": 5
}
