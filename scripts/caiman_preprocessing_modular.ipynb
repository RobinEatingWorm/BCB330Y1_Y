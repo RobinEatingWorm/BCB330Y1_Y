{
 "cells": [
  {
   "cell_type": "code",
   "execution_count": null,
   "id": "715d84d7",
   "metadata": {},
   "outputs": [],
   "source": [
    "import caiman as cm\n",
    "from caiman.motion_correction import MotionCorrect\n",
    "from caiman.source_extraction.cnmf import cnmf, params\n",
    "\n",
    "import numpy as np\n",
    "import os\n",
    "\n",
    "from caiman_preprocessing import resave_data_path, get_params_dict\n",
    "import src.caiman_macros as cm_macros"
   ]
  },
  {
   "cell_type": "code",
   "execution_count": null,
   "id": "3910fc60",
   "metadata": {},
   "outputs": [],
   "source": [
    "# Load and resave the data\n",
    "# See GitHub Issue #377 - https://github.com/flatironinstitute/CaImAn/issues/377#issuecomment-426740429\n",
    "# resave_data_path()"
   ]
  },
  {
   "cell_type": "code",
   "execution_count": null,
   "id": "1c4f7037",
   "metadata": {},
   "outputs": [],
   "source": [
    "# Get the paths to the data\n",
    "# Change the list index to select a different file\n",
    "os.chdir('C:/Users/pugavin/BCB-330-2023-05/pugavin/results')\n",
    "fnames = ['F147.tif', 'F201.tif']\n",
    "fname = fnames[0]"
   ]
  },
  {
   "cell_type": "code",
   "execution_count": null,
   "id": "fcaa41f2",
   "metadata": {},
   "outputs": [],
   "source": [
    "# Retrieve parameters\n",
    "params_dict = get_params_dict()\n",
    "\n",
    "# Add the file to the parameter dictionary\n",
    "params_dict['fnames'] = [fname]"
   ]
  },
  {
   "cell_type": "code",
   "execution_count": null,
   "id": "a0e1d4f5",
   "metadata": {},
   "outputs": [],
   "source": [
    "# Play the movie of the original data\n",
    "movie_orig = cm.load(params_dict['fnames'])\n",
    "movie_orig.play()"
   ]
  },
  {
   "cell_type": "code",
   "execution_count": null,
   "id": "d381c19e",
   "metadata": {},
   "outputs": [],
   "source": [
    "# Start a cluster\n",
    "dview, n_processes = cm_macros.start_cluster()"
   ]
  },
  {
   "cell_type": "code",
   "execution_count": null,
   "id": "f4f0148d",
   "metadata": {},
   "outputs": [],
   "source": [
    "# Save the parameter dictionary into a params.CNMFParams object\n",
    "opts = params.CNMFParams(params_dict=params_dict)"
   ]
  },
  {
   "cell_type": "code",
   "execution_count": null,
   "id": "211c279f",
   "metadata": {},
   "outputs": [],
   "source": [
    "# Perform rigid motion correction\n",
    "mc = MotionCorrect(params_dict['fnames'], dview=dview, **opts.get_group('motion'))\n",
    "mc.motion_correct(save_movie=True)"
   ]
  },
  {
   "cell_type": "code",
   "execution_count": null,
   "id": "036b845a",
   "metadata": {},
   "outputs": [],
   "source": [
    "# Compare the motion-corrected data with the original data\n",
    "movie_mc = cm.load(mc.mmap_file)\n",
    "cm.concatenate([movie_orig - mc.min_mov * mc.nonneg_movie, movie_mc], axis=2).play()"
   ]
  },
  {
   "cell_type": "code",
   "execution_count": null,
   "id": "9ec89eb7",
   "metadata": {},
   "outputs": [],
   "source": [
    "# Save memory mapped files from motion correction\n",
    "base_name = params_dict['fnames'][0][:-4] + '_memmap_'\n",
    "fname_mmap = cm.save_memmap(mc.mmap_file, base_name=base_name, order='C', dview=dview)"
   ]
  },
  {
   "cell_type": "code",
   "execution_count": null,
   "id": "157e6be7",
   "metadata": {},
   "outputs": [],
   "source": [
    "# Load memory mapped files from motion correction\n",
    "Yr, dims, T = cm.load_memmap(fname_mmap)\n",
    "images = np.reshape(Yr.T, [T] + list(dims), order='F')"
   ]
  },
  {
   "cell_type": "code",
   "execution_count": null,
   "id": "80fe2637",
   "metadata": {},
   "outputs": [],
   "source": [
    "# Restart the cluster to clean up memory\n",
    "dview, n_processes = cm_macros.start_cluster(dview)"
   ]
  },
  {
   "cell_type": "code",
   "execution_count": null,
   "id": "c1244052",
   "metadata": {},
   "outputs": [],
   "source": [
    "# Run CNMF\n",
    "cnm = cnmf.CNMF(n_processes, params=opts, dview=dview)\n",
    "cnm = cnm.fit(images)"
   ]
  },
  {
   "cell_type": "code",
   "execution_count": null,
   "id": "19a2fdec",
   "metadata": {},
   "outputs": [],
   "source": [
    "# Plot the contours of any identified components against the correlation image\n",
    "corr_img = cm.local_correlations(images.transpose((1, 2, 0)))\n",
    "corr_img[np.isnan(corr_img)] = 0\n",
    "cnm.estimates.plot_contours_nb(img=corr_img)"
   ]
  },
  {
   "cell_type": "code",
   "execution_count": null,
   "id": "88eb944f",
   "metadata": {},
   "outputs": [],
   "source": [
    "cnm_orig = cnm"
   ]
  },
  {
   "cell_type": "code",
   "execution_count": null,
   "id": "91e06771",
   "metadata": {},
   "outputs": [],
   "source": [
    "# Rerun CNMF\n",
    "cnm = cnm.refit(images, dview=dview)"
   ]
  },
  {
   "cell_type": "code",
   "execution_count": null,
   "id": "646bf90a",
   "metadata": {},
   "outputs": [],
   "source": [
    "# Evaluate the quality of inferred spatial components\n",
    "cnm.estimates.evaluate_components(images, cnm.params, dview=dview)"
   ]
  },
  {
   "cell_type": "code",
   "execution_count": null,
   "id": "27b44a17",
   "metadata": {},
   "outputs": [],
   "source": [
    "# Display plot of all components\n",
    "cnm.estimates.plot_contours_nb(img=corr_img, idx=cnm.estimates.idx_components)"
   ]
  },
  {
   "cell_type": "code",
   "execution_count": null,
   "id": "da326814",
   "metadata": {},
   "outputs": [],
   "source": [
    "# Display plot of accepted components\n",
    "cnm.estimates.nb_view_components(img=corr_img, idx=cnm.estimates.idx_components)"
   ]
  },
  {
   "cell_type": "code",
   "execution_count": null,
   "id": "933b10fb",
   "metadata": {},
   "outputs": [],
   "source": [
    "# Display plot of rejected components, if any\n",
    "if len(cnm.estimates.idx_components_bad) > 0:\n",
    "    cnm.estimates.nb_view_components(img=corr_img, idx=cnm.estimates.idx_components_bad)"
   ]
  },
  {
   "cell_type": "code",
   "execution_count": null,
   "id": "618b087e",
   "metadata": {},
   "outputs": [],
   "source": [
    "# Keep only the accepted components\n",
    "cnm.estimates.select_components(use_object=True)"
   ]
  },
  {
   "cell_type": "code",
   "execution_count": null,
   "id": "fafdd8d8",
   "metadata": {},
   "outputs": [],
   "source": [
    "# View a plot of the results\n",
    "cnm.estimates.nb_view_components(img=corr_img, denoised_color='red')"
   ]
  },
  {
   "cell_type": "code",
   "execution_count": null,
   "id": "c3fa8c06",
   "metadata": {
    "scrolled": true
   },
   "outputs": [],
   "source": [
    "# View a movie of the results\n",
    "cnm.estimates.play_movie(images)"
   ]
  },
  {
   "cell_type": "code",
   "execution_count": null,
   "id": "09c80407",
   "metadata": {},
   "outputs": [],
   "source": [
    "# Save results\n",
    "cnm.save(cnm.mmap_file[:-4] + 'hdf5')"
   ]
  },
  {
   "cell_type": "code",
   "execution_count": null,
   "id": "2be599f1",
   "metadata": {},
   "outputs": [],
   "source": [
    "# Stop the cluster\n",
    "cm.stop_server(dview=dview)"
   ]
  }
 ],
 "metadata": {
  "kernelspec": {
   "display_name": "Python 3 (ipykernel)",
   "language": "python",
   "name": "python3"
  },
  "language_info": {
   "codemirror_mode": {
    "name": "ipython",
    "version": 3
   },
   "file_extension": ".py",
   "mimetype": "text/x-python",
   "name": "python",
   "nbconvert_exporter": "python",
   "pygments_lexer": "ipython3",
   "version": "3.9.16"
  }
 },
 "nbformat": 4,
 "nbformat_minor": 5
}
