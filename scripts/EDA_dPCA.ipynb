{
 "cells": [
  {
   "cell_type": "code",
   "execution_count": 1,
   "id": "06230936",
   "metadata": {},
   "outputs": [],
   "source": [
    "import caiman as cm\n",
    "from caiman.source_extraction.cnmf import cnmf\n",
    "from dPCA import dPCA\n",
    "\n",
    "import os\n",
    "\n",
    "\n",
    "os.chdir('C:/Users/pugavin/BCB-330-2023-05')"
   ]
  },
  {
   "cell_type": "code",
   "execution_count": 2,
   "id": "92452584",
   "metadata": {},
   "outputs": [],
   "source": [
    "# Load CaImAn analysis results\n",
    "fnames = ['results/F147_memmap__d1_320_d2_256_d3_1_order_C_frames_41990_.hdf5',\n",
    "          'results/F201_memmap__d1_320_d2_256_d3_1_order_C_frames_48080_.hdf5']\n",
    "cnms = []\n",
    "for fname in fnames:\n",
    "    cnms.append(cnmf.load_CNMF(fname))"
   ]
  },
  {
   "cell_type": "code",
   "execution_count": 3,
   "id": "a3aa4503",
   "metadata": {},
   "outputs": [],
   "source": [
    "# Load the temporal traces (# components x # timesteps)\n",
    "matrices = []\n",
    "for cnm in cnms:\n",
    "    matrices.append(cnm.estimates.C)"
   ]
  },
  {
   "cell_type": "code",
   "execution_count": 4,
   "id": "e41c1a52",
   "metadata": {},
   "outputs": [],
   "source": [
    "# Initialize a dPCA object\n",
    "dpca = dPCA.dPCA(labels='nt', regularizer=None)\n",
    "dpca.protect = ['t']"
   ]
  },
  {
   "cell_type": "code",
   "execution_count": 5,
   "id": "99454e48",
   "metadata": {},
   "outputs": [],
   "source": [
    "# Perform dPCA\n",
    "results = []\n",
    "for matrix in matrices:\n",
    "    results.append(dpca.fit_transform(matrix))"
   ]
  }
 ],
 "metadata": {
  "kernelspec": {
   "display_name": "Python 3 (ipykernel)",
   "language": "python",
   "name": "python3"
  },
  "language_info": {
   "codemirror_mode": {
    "name": "ipython",
    "version": 3
   },
   "file_extension": ".py",
   "mimetype": "text/x-python",
   "name": "python",
   "nbconvert_exporter": "python",
   "pygments_lexer": "ipython3",
   "version": "3.9.16"
  }
 },
 "nbformat": 4,
 "nbformat_minor": 5
}
